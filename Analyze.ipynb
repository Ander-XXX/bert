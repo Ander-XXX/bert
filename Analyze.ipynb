{
 "cells": [
  {
   "cell_type": "code",
   "execution_count": 35,
   "metadata": {},
   "outputs": [],
   "source": [
    "from datasets import Dataset\n",
    "from datasets import load_from_disk\n",
    "\n",
    "data = load_from_disk('./datasets')"
   ]
  },
  {
   "cell_type": "code",
   "execution_count": 36,
   "metadata": {},
   "outputs": [
    {
     "data": {
      "text/plain": [
       "DatasetDict({\n",
       "    train: Dataset({\n",
       "        features: ['text', 'label'],\n",
       "        num_rows: 25000\n",
       "    })\n",
       "    test: Dataset({\n",
       "        features: ['text', 'label'],\n",
       "        num_rows: 25000\n",
       "    })\n",
       "})"
      ]
     },
     "execution_count": 36,
     "metadata": {},
     "output_type": "execute_result"
    }
   ],
   "source": [
    "data"
   ]
  },
  {
   "cell_type": "code",
   "execution_count": 37,
   "metadata": {},
   "outputs": [
    {
     "name": "stderr",
     "output_type": "stream",
     "text": [
      "Loading cached split indices for dataset at /home/lijinrun/lgs/Roberta-Llama-Mistral/datasets/test/cache-ecb305c67be2587b.arrow and /home/lijinrun/lgs/Roberta-Llama-Mistral/datasets/test/cache-fc5210a6d72c4c50.arrow\n"
     ]
    }
   ],
   "source": [
    "new_data = data['test'].train_test_split(train_size=0.5, seed=42)\n",
    "data['test'] = new_data.pop(\"train\")\n",
    "# 将原数据集的测试集仍作为测试集\n",
    "data['val'] = new_data.pop(\"test\")"
   ]
  },
  {
   "cell_type": "code",
   "execution_count": 38,
   "metadata": {},
   "outputs": [
    {
     "data": {
      "text/plain": [
       "DatasetDict({\n",
       "    train: Dataset({\n",
       "        features: ['text', 'label'],\n",
       "        num_rows: 25000\n",
       "    })\n",
       "    test: Dataset({\n",
       "        features: ['text', 'label'],\n",
       "        num_rows: 12500\n",
       "    })\n",
       "    val: Dataset({\n",
       "        features: ['text', 'label'],\n",
       "        num_rows: 12500\n",
       "    })\n",
       "})"
      ]
     },
     "execution_count": 38,
     "metadata": {},
     "output_type": "execute_result"
    }
   ],
   "source": [
    "data"
   ]
  },
  {
   "cell_type": "code",
   "execution_count": 39,
   "metadata": {},
   "outputs": [
    {
     "data": {
      "text/plain": [
       "label\n",
       "0    12500\n",
       "1    12500\n",
       "Name: count, dtype: int64"
      ]
     },
     "execution_count": 39,
     "metadata": {},
     "output_type": "execute_result"
    }
   ],
   "source": [
    "data['train'].to_pandas()['label'].value_counts()"
   ]
  },
  {
   "cell_type": "code",
   "execution_count": 40,
   "metadata": {},
   "outputs": [
    {
     "data": {
      "text/plain": [
       "label\n",
       "1    6267\n",
       "0    6233\n",
       "Name: count, dtype: int64"
      ]
     },
     "execution_count": 40,
     "metadata": {},
     "output_type": "execute_result"
    }
   ],
   "source": [
    "data['test'].to_pandas()['label'].value_counts()"
   ]
  },
  {
   "cell_type": "code",
   "execution_count": 41,
   "metadata": {},
   "outputs": [
    {
     "data": {
      "text/plain": [
       "label\n",
       "0    6267\n",
       "1    6233\n",
       "Name: count, dtype: int64"
      ]
     },
     "execution_count": 41,
     "metadata": {},
     "output_type": "execute_result"
    }
   ],
   "source": [
    "data['val'].to_pandas()['label'].value_counts()"
   ]
  },
  {
   "cell_type": "code",
   "execution_count": 43,
   "metadata": {},
   "outputs": [
    {
     "data": {
      "text/plain": [
       "(13704, 2470)"
      ]
     },
     "execution_count": 43,
     "metadata": {},
     "output_type": "execute_result"
    }
   ],
   "source": [
    "max_char = data['train'].to_pandas()['text'].str.len().max()\n",
    "# 词数\n",
    "max_words = data['train'].to_pandas()['text'].str.split().str.len().max()\n",
    "max_char, max_words"
   ]
  },
  {
   "cell_type": "code",
   "execution_count": 52,
   "metadata": {},
   "outputs": [
    {
     "data": {
      "text/plain": [
       "(array([9.700e+01, 9.390e+02, 1.131e+03, 1.412e+03, 3.642e+03, 3.531e+03,\n",
       "        2.486e+03, 1.810e+03, 1.436e+03, 1.183e+03, 9.560e+02, 8.040e+02,\n",
       "        7.080e+02, 6.150e+02, 5.430e+02, 4.080e+02, 4.020e+02, 3.210e+02,\n",
       "        3.270e+02, 2.430e+02, 2.310e+02, 1.930e+02, 1.810e+02, 1.620e+02,\n",
       "        1.370e+02, 1.150e+02, 1.130e+02, 9.100e+01, 9.600e+01, 7.500e+01,\n",
       "        7.400e+01, 5.800e+01, 6.800e+01, 5.200e+01, 3.800e+01, 4.400e+01,\n",
       "        4.200e+01, 2.900e+01, 4.900e+01, 7.000e+01, 6.000e+01, 1.000e+00,\n",
       "        3.000e+00, 4.000e+00, 0.000e+00, 0.000e+00, 2.000e+00, 1.000e+00,\n",
       "        2.000e+00, 0.000e+00, 1.000e+00, 1.000e+00, 1.000e+00, 1.000e+00,\n",
       "        0.000e+00, 2.000e+00, 1.000e+00, 0.000e+00, 0.000e+00, 1.000e+00,\n",
       "        0.000e+00, 2.000e+00, 0.000e+00, 0.000e+00, 1.000e+00, 0.000e+00,\n",
       "        0.000e+00, 0.000e+00, 0.000e+00, 1.000e+00, 0.000e+00, 0.000e+00,\n",
       "        0.000e+00, 1.000e+00, 1.000e+00, 0.000e+00, 0.000e+00, 0.000e+00,\n",
       "        0.000e+00, 0.000e+00, 0.000e+00, 0.000e+00, 0.000e+00, 0.000e+00,\n",
       "        0.000e+00, 0.000e+00, 0.000e+00, 0.000e+00, 0.000e+00, 0.000e+00,\n",
       "        0.000e+00, 0.000e+00, 0.000e+00, 0.000e+00, 0.000e+00, 0.000e+00,\n",
       "        0.000e+00, 0.000e+00, 0.000e+00, 1.000e+00]),\n",
       " array([  10. ,   34.6,   59.2,   83.8,  108.4,  133. ,  157.6,  182.2,\n",
       "         206.8,  231.4,  256. ,  280.6,  305.2,  329.8,  354.4,  379. ,\n",
       "         403.6,  428.2,  452.8,  477.4,  502. ,  526.6,  551.2,  575.8,\n",
       "         600.4,  625. ,  649.6,  674.2,  698.8,  723.4,  748. ,  772.6,\n",
       "         797.2,  821.8,  846.4,  871. ,  895.6,  920.2,  944.8,  969.4,\n",
       "         994. , 1018.6, 1043.2, 1067.8, 1092.4, 1117. , 1141.6, 1166.2,\n",
       "        1190.8, 1215.4, 1240. , 1264.6, 1289.2, 1313.8, 1338.4, 1363. ,\n",
       "        1387.6, 1412.2, 1436.8, 1461.4, 1486. , 1510.6, 1535.2, 1559.8,\n",
       "        1584.4, 1609. , 1633.6, 1658.2, 1682.8, 1707.4, 1732. , 1756.6,\n",
       "        1781.2, 1805.8, 1830.4, 1855. , 1879.6, 1904.2, 1928.8, 1953.4,\n",
       "        1978. , 2002.6, 2027.2, 2051.8, 2076.4, 2101. , 2125.6, 2150.2,\n",
       "        2174.8, 2199.4, 2224. , 2248.6, 2273.2, 2297.8, 2322.4, 2347. ,\n",
       "        2371.6, 2396.2, 2420.8, 2445.4, 2470. ]),\n",
       " <BarContainer object of 100 artists>)"
      ]
     },
     "execution_count": 52,
     "metadata": {},
     "output_type": "execute_result"
    },
    {
     "data": {
      "image/png": "[encoded data removed]",
      "text/plain": [
       "<Figure size 640x480 with 1 Axes>"
      ]
     },
     "metadata": {},
     "output_type": "display_data"
    }
   ],
   "source": [
    "import numpy as np\n",
    "from matplotlib import pyplot as plt\n",
    "all_char = [len(x.split()) for x in data['train'].to_pandas()['text']]\n",
    "# 统计all_char的分布\n",
    "all_char = np.array(all_char)\n",
    "plt.hist(all_char, bins=100)"
   ]
  },
  {
   "cell_type": "code",
   "execution_count": null,
   "metadata": {},
   "outputs": [],
   "source": []
  }
 ],
 "metadata": {
  "kernelspec": {
   "display_name": "base",
   "language": "python",
   "name": "python3"
  },
  "language_info": {
   "codemirror_mode": {
    "name": "ipython",
    "version": 3
   },
   "file_extension": ".py",
   "mimetype": "text/x-python",
   "name": "python",
   "nbconvert_exporter": "python",
   "pygments_lexer": "ipython3",
   "version": "3.11.4"
  }
 },
 "nbformat": 4,
 "nbformat_minor": 2
}
